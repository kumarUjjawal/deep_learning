{
 "cells": [
  {
   "cell_type": "markdown",
   "metadata": {},
   "source": [
    "# Artifical Neural Networks"
   ]
  },
  {
   "cell_type": "code",
   "execution_count": 1,
   "metadata": {},
   "outputs": [],
   "source": [
    "import numpy as np\n",
    "from sklearn.linear_model import Perceptron\n",
    "from sklearn.datasets import load_iris"
   ]
  },
  {
   "cell_type": "markdown",
   "metadata": {},
   "source": [
    "## Perceptron"
   ]
  },
  {
   "cell_type": "code",
   "execution_count": 2,
   "metadata": {},
   "outputs": [],
   "source": [
    "# load data\n",
    "iris = load_iris()\n",
    "x = iris.data[:,(2,3)]\n",
    "y = (iris.target == 0).astype(np.int)"
   ]
  },
  {
   "cell_type": "code",
   "execution_count": 3,
   "metadata": {},
   "outputs": [],
   "source": [
    "# classifier\n",
    "clf = Perceptron()\n",
    "clf.fit(x, y)\n",
    "\n",
    "prediction = clf.predict([[0.5,2]])"
   ]
  },
  {
   "cell_type": "code",
   "execution_count": 4,
   "metadata": {},
   "outputs": [
    {
     "data": {
      "text/plain": [
       "array([0])"
      ]
     },
     "execution_count": 4,
     "metadata": {},
     "output_type": "execute_result"
    }
   ],
   "source": [
    "prediction"
   ]
  },
  {
   "cell_type": "markdown",
   "metadata": {},
   "source": [
    "## Multilayer Perceptron"
   ]
  },
  {
   "cell_type": "code",
   "execution_count": 5,
   "metadata": {},
   "outputs": [],
   "source": [
    "import tensorflow as tf\n",
    "from tensorflow import keras"
   ]
  },
  {
   "cell_type": "code",
   "execution_count": 6,
   "metadata": {},
   "outputs": [],
   "source": [
    "fashion = keras.datasets.fashion_mnist\n",
    "\n",
    "(X_train_full, y_train_full), (X_test, y_test) = fashion.load_data()"
   ]
  },
  {
   "cell_type": "code",
   "execution_count": 7,
   "metadata": {},
   "outputs": [
    {
     "data": {
      "text/plain": [
       "(60000, 28, 28)"
      ]
     },
     "execution_count": 7,
     "metadata": {},
     "output_type": "execute_result"
    }
   ],
   "source": [
    "X_train_full.shape"
   ]
  },
  {
   "cell_type": "code",
   "execution_count": 8,
   "metadata": {},
   "outputs": [
    {
     "data": {
      "text/plain": [
       "dtype('uint8')"
      ]
     },
     "execution_count": 8,
     "metadata": {},
     "output_type": "execute_result"
    }
   ],
   "source": [
    "X_train_full.dtype"
   ]
  },
  {
   "cell_type": "code",
   "execution_count": 9,
   "metadata": {},
   "outputs": [],
   "source": [
    "X_valid, X_train = X_train_full[:5000] / 255.0, X_train_full[5000:] / 255.0\n",
    "y_valid, y_train = y_train_full[:5000], y_train_full[5000:]"
   ]
  },
  {
   "cell_type": "code",
   "execution_count": 10,
   "metadata": {},
   "outputs": [],
   "source": [
    "class_names = [\"T-shirt/top\", \"Trouser\", \"Pullover\", \"Dress\", \"Coat\", \"Sandal\", \"Shirt\", \"Sneaker\", \"Bag\",\n",
    "               \"Ankle boot\"]"
   ]
  },
  {
   "cell_type": "code",
   "execution_count": 11,
   "metadata": {},
   "outputs": [
    {
     "data": {
      "text/plain": [
       "'Coat'"
      ]
     },
     "execution_count": 11,
     "metadata": {},
     "output_type": "execute_result"
    }
   ],
   "source": [
    "class_names[y_train[0]]"
   ]
  },
  {
   "cell_type": "code",
   "execution_count": 12,
   "metadata": {},
   "outputs": [],
   "source": [
    "# sequential API\n",
    "\n",
    "model = keras.models.Sequential()\n",
    "model.add(keras.layers.Flatten(input_shape=[28,28]))\n",
    "model.add(keras.layers.Dense(300, activation='relu'))\n",
    "model.add(keras.layers.Dense(100, activation='relu'))\n",
    "model.add(keras.layers.Dense(10, activation='softmax'))"
   ]
  },
  {
   "cell_type": "code",
   "execution_count": 13,
   "metadata": {},
   "outputs": [
    {
     "name": "stdout",
     "output_type": "stream",
     "text": [
      "Model: \"sequential\"\n",
      "_________________________________________________________________\n",
      "Layer (type)                 Output Shape              Param #   \n",
      "=================================================================\n",
      "flatten (Flatten)            (None, 784)               0         \n",
      "_________________________________________________________________\n",
      "dense (Dense)                (None, 300)               235500    \n",
      "_________________________________________________________________\n",
      "dense_1 (Dense)              (None, 100)               30100     \n",
      "_________________________________________________________________\n",
      "dense_2 (Dense)              (None, 10)                1010      \n",
      "=================================================================\n",
      "Total params: 266,610\n",
      "Trainable params: 266,610\n",
      "Non-trainable params: 0\n",
      "_________________________________________________________________\n"
     ]
    }
   ],
   "source": [
    "model.summary()"
   ]
  },
  {
   "cell_type": "code",
   "execution_count": 14,
   "metadata": {},
   "outputs": [
    {
     "data": {
      "text/plain": [
       "[<tensorflow.python.keras.layers.core.Flatten at 0x7f84d197bed0>,\n",
       " <tensorflow.python.keras.layers.core.Dense at 0x7f84caaf36d0>,\n",
       " <tensorflow.python.keras.layers.core.Dense at 0x7f84cfa53590>,\n",
       " <tensorflow.python.keras.layers.core.Dense at 0x7f84cac03ed0>]"
      ]
     },
     "execution_count": 14,
     "metadata": {},
     "output_type": "execute_result"
    }
   ],
   "source": [
    "model.layers"
   ]
  },
  {
   "cell_type": "code",
   "execution_count": 19,
   "metadata": {},
   "outputs": [],
   "source": [
    "model.compile(loss='sparse_categorical_crossentropy',\n",
    "              optimizer='sgd',\n",
    "              metrics=['accuracy'])"
   ]
  },
  {
   "cell_type": "code",
   "execution_count": 20,
   "metadata": {},
   "outputs": [
    {
     "name": "stdout",
     "output_type": "stream",
     "text": [
      "Train on 55000 samples, validate on 5000 samples\n",
      "Epoch 1/30\n",
      "55000/55000 [==============================] - 8s 140us/sample - loss: 0.7111 - accuracy: 0.7674 - val_loss: 0.5074 - val_accuracy: 0.8272\n",
      "Epoch 2/30\n",
      "55000/55000 [==============================] - 6s 105us/sample - loss: 0.4863 - accuracy: 0.8309 - val_loss: 0.4331 - val_accuracy: 0.8564\n",
      "Epoch 3/30\n",
      "55000/55000 [==============================] - 5s 95us/sample - loss: 0.4428 - accuracy: 0.8443 - val_loss: 0.4292 - val_accuracy: 0.8548\n",
      "Epoch 4/30\n",
      "55000/55000 [==============================] - 5s 99us/sample - loss: 0.4158 - accuracy: 0.8541 - val_loss: 0.3933 - val_accuracy: 0.8680\n",
      "Epoch 5/30\n",
      "55000/55000 [==============================] - 6s 105us/sample - loss: 0.3964 - accuracy: 0.8595 - val_loss: 0.3756 - val_accuracy: 0.8708\n",
      "Epoch 6/30\n",
      "55000/55000 [==============================] - 6s 106us/sample - loss: 0.3795 - accuracy: 0.8665 - val_loss: 0.3688 - val_accuracy: 0.8736\n",
      "Epoch 7/30\n",
      "55000/55000 [==============================] - 6s 103us/sample - loss: 0.3663 - accuracy: 0.8698 - val_loss: 0.3850 - val_accuracy: 0.8676\n",
      "Epoch 8/30\n",
      "55000/55000 [==============================] - 8s 137us/sample - loss: 0.3539 - accuracy: 0.8743 - val_loss: 0.3643 - val_accuracy: 0.8682\n",
      "Epoch 9/30\n",
      "55000/55000 [==============================] - 6s 117us/sample - loss: 0.3439 - accuracy: 0.8778 - val_loss: 0.3635 - val_accuracy: 0.8702\n",
      "Epoch 10/30\n",
      "55000/55000 [==============================] - 5s 98us/sample - loss: 0.3351 - accuracy: 0.8811 - val_loss: 0.3406 - val_accuracy: 0.8808\n",
      "Epoch 11/30\n",
      "55000/55000 [==============================] - 5s 94us/sample - loss: 0.3260 - accuracy: 0.8829 - val_loss: 0.3434 - val_accuracy: 0.8814\n",
      "Epoch 12/30\n",
      "55000/55000 [==============================] - 6s 118us/sample - loss: 0.3184 - accuracy: 0.8871 - val_loss: 0.3291 - val_accuracy: 0.8846\n",
      "Epoch 13/30\n",
      "55000/55000 [==============================] - 8s 138us/sample - loss: 0.3107 - accuracy: 0.8884 - val_loss: 0.3468 - val_accuracy: 0.8782\n",
      "Epoch 14/30\n",
      "55000/55000 [==============================] - 7s 133us/sample - loss: 0.3042 - accuracy: 0.8911 - val_loss: 0.3438 - val_accuracy: 0.8778\n",
      "Epoch 15/30\n",
      "55000/55000 [==============================] - 6s 105us/sample - loss: 0.2977 - accuracy: 0.8927 - val_loss: 0.3341 - val_accuracy: 0.8854\n",
      "Epoch 16/30\n",
      "55000/55000 [==============================] - 6s 113us/sample - loss: 0.2918 - accuracy: 0.8957 - val_loss: 0.3221 - val_accuracy: 0.8850\n",
      "Epoch 17/30\n",
      "55000/55000 [==============================] - 6s 103us/sample - loss: 0.2859 - accuracy: 0.8963 - val_loss: 0.3241 - val_accuracy: 0.8852\n",
      "Epoch 18/30\n",
      "55000/55000 [==============================] - 6s 104us/sample - loss: 0.2801 - accuracy: 0.8992 - val_loss: 0.3181 - val_accuracy: 0.8838\n",
      "Epoch 19/30\n",
      "55000/55000 [==============================] - 6s 116us/sample - loss: 0.2749 - accuracy: 0.9009 - val_loss: 0.3165 - val_accuracy: 0.8886\n",
      "Epoch 20/30\n",
      "55000/55000 [==============================] - 9s 160us/sample - loss: 0.2697 - accuracy: 0.9025 - val_loss: 0.3079 - val_accuracy: 0.8898\n",
      "Epoch 21/30\n",
      "55000/55000 [==============================] - 8s 150us/sample - loss: 0.2647 - accuracy: 0.9052 - val_loss: 0.3129 - val_accuracy: 0.8910\n",
      "Epoch 22/30\n",
      "55000/55000 [==============================] - 7s 131us/sample - loss: 0.2601 - accuracy: 0.9053 - val_loss: 0.3261 - val_accuracy: 0.8842\n",
      "Epoch 23/30\n",
      "55000/55000 [==============================] - 7s 122us/sample - loss: 0.2559 - accuracy: 0.9073 - val_loss: 0.3183 - val_accuracy: 0.8802\n",
      "Epoch 24/30\n",
      "55000/55000 [==============================] - 7s 127us/sample - loss: 0.2516 - accuracy: 0.9093 - val_loss: 0.3107 - val_accuracy: 0.8918\n",
      "Epoch 25/30\n",
      "55000/55000 [==============================] - 7s 125us/sample - loss: 0.2472 - accuracy: 0.9105 - val_loss: 0.3308 - val_accuracy: 0.8800\n",
      "Epoch 26/30\n",
      "55000/55000 [==============================] - 8s 140us/sample - loss: 0.2424 - accuracy: 0.9125 - val_loss: 0.3351 - val_accuracy: 0.8816\n",
      "Epoch 27/30\n",
      "55000/55000 [==============================] - 8s 140us/sample - loss: 0.2389 - accuracy: 0.9131 - val_loss: 0.3000 - val_accuracy: 0.8948\n",
      "Epoch 28/30\n",
      "55000/55000 [==============================] - 10s 181us/sample - loss: 0.2336 - accuracy: 0.9162 - val_loss: 0.2977 - val_accuracy: 0.8948\n",
      "Epoch 29/30\n",
      "55000/55000 [==============================] - 6s 112us/sample - loss: 0.2312 - accuracy: 0.9164 - val_loss: 0.3084 - val_accuracy: 0.8930\n",
      "Epoch 30/30\n",
      "55000/55000 [==============================] - 8s 152us/sample - loss: 0.2275 - accuracy: 0.9176 - val_loss: 0.2985 - val_accuracy: 0.8924\n"
     ]
    }
   ],
   "source": [
    "history = model.fit(X_train, y_train, epochs=30, \n",
    "                    validation_data=(X_valid, y_valid))"
   ]
  },
  {
   "cell_type": "code",
   "execution_count": 23,
   "metadata": {},
   "outputs": [
    {
     "data": {
      "image/png": "[encoded data removed]",
      "text/plain": [
       "<Figure size 720x432 with 1 Axes>"
      ]
     },
     "metadata": {
      "needs_background": "light"
     },
     "output_type": "display_data"
    }
   ],
   "source": [
    "# plotting loss and accuracy\n",
    "\n",
    "import pandas as pd\n",
    "import matplotlib.pyplot as plt\n",
    "\n",
    "pd.DataFrame(history.history).plot(figsize=(10,6))\n",
    "plt.grid(True)\n",
    "plt.gca().set_ylim(0,1)\n",
    "plt.show();"
   ]
  },
  {
   "cell_type": "code",
   "execution_count": 24,
   "metadata": {},
   "outputs": [
    {
     "name": "stdout",
     "output_type": "stream",
     "text": [
      "10000/10000 [==============================] - 1s 84us/sample - loss: 58.7338 - accuracy: 0.8539\n"
     ]
    },
    {
     "data": {
      "text/plain": [
       "[58.73381297639608, 0.8539]"
      ]
     },
     "execution_count": 24,
     "metadata": {},
     "output_type": "execute_result"
    }
   ],
   "source": [
    "# evaluate the model on test set\n",
    "\n",
    "model.evaluate(X_test, y_test)"
   ]
  },
  {
   "cell_type": "code",
   "execution_count": 26,
   "metadata": {},
   "outputs": [
    {
     "data": {
      "text/plain": [
       "array([[0., 0., 0., 0., 0., 0., 0., 0., 0., 1.],\n",
       "       [0., 0., 1., 0., 0., 0., 0., 0., 0., 0.],\n",
       "       [0., 1., 0., 0., 0., 0., 0., 0., 0., 0.]], dtype=float32)"
      ]
     },
     "execution_count": 26,
     "metadata": {},
     "output_type": "execute_result"
    }
   ],
   "source": [
    "# using model to make predictions\n",
    "\n",
    "X_new = X_test[:3]\n",
    "y_prob = model.predict(X_new)\n",
    "y_prob.round(2)"
   ]
  },
  {
   "cell_type": "code",
   "execution_count": 27,
   "metadata": {},
   "outputs": [
    {
     "data": {
      "text/plain": [
       "array([9, 2, 1])"
      ]
     },
     "execution_count": 27,
     "metadata": {},
     "output_type": "execute_result"
    }
   ],
   "source": [
    "y_pred = model.predict_classes(X_new)\n",
    "y_pred"
   ]
  },
  {
   "cell_type": "code",
   "execution_count": 28,
   "metadata": {},
   "outputs": [
    {
     "data": {
      "text/plain": [
       "array(['Ankle boot', 'Pullover', 'Trouser'], dtype='<U11')"
      ]
     },
     "execution_count": 28,
     "metadata": {},
     "output_type": "execute_result"
    }
   ],
   "source": [
    "np.array(class_names)[y_pred]"
   ]
  },
  {
   "cell_type": "code",
   "execution_count": 29,
   "metadata": {},
   "outputs": [
    {
     "data": {
      "text/plain": [
       "array([9, 2, 1], dtype=uint8)"
      ]
     },
     "execution_count": 29,
     "metadata": {},
     "output_type": "execute_result"
    }
   ],
   "source": [
    "y_new = y_test[:3]\n",
    "y_new"
   ]
  },
  {
   "cell_type": "code",
   "execution_count": null,
   "metadata": {},
   "outputs": [],
   "source": [
    "## Re"
   ]
  }
 ],
 "metadata": {
  "kernelspec": {
   "display_name": "Python 3",
   "language": "python",
   "name": "python3"
  },
  "language_info": {
   "codemirror_mode": {
    "name": "ipython",
    "version": 3
   },
   "file_extension": ".py",
   "mimetype": "text/x-python",
   "name": "python",
   "nbconvert_exporter": "python",
   "pygments_lexer": "ipython3",
   "version": "3.7.4"
  }
 },
 "nbformat": 4,
 "nbformat_minor": 4
}
